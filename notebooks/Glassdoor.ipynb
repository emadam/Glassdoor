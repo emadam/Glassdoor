{
 "cells": [
  {
   "cell_type": "code",
   "execution_count": 1,
   "id": "aa562957",
   "metadata": {},
   "outputs": [],
   "source": [
    "import requests\n",
    "from bs4 import BeautifulSoup\n",
    "import pandas as pd\n",
    "import numpy as np\n",
    "from sqlalchemy import create_engine, String, Float, DATE\n",
    "import pymssql\n",
    "from datetime import date, datetime\n",
    "import matplotlib.pyplot as plt\n",
    "import os\n",
    "from dotenv import load_dotenv\n",
    "from empiricaldist import Cdf\n",
    "import seaborn as sns"
   ]
  },
  {
   "cell_type": "code",
   "execution_count": 31,
   "id": "7035c4f5",
   "metadata": {},
   "outputs": [],
   "source": [
    "def find_host_ip():\n",
    "    cmd = \"ipconfig.exe | grep 'vEthernet (WSL)' -A4 | cut -d':' -f 2 | tail -n1 | sed -e 's/\\s*//g' > host_ip.txt\"\n",
    "    os.system(cmd)\n",
    "    with open('host_ip.txt') as f:\n",
    "        HOST_IP = f.readline()\n",
    "        f.close()\n",
    "    return HOST_IP.split(sep='\\n')[0]"
   ]
  },
  {
   "cell_type": "code",
   "execution_count": 32,
   "id": "d946d5de",
   "metadata": {},
   "outputs": [],
   "source": [
    "HOST_IP = find_host_ip()"
   ]
  },
  {
   "cell_type": "code",
   "execution_count": 5,
   "id": "4cd51d10",
   "metadata": {},
   "outputs": [
    {
     "data": {
      "text/plain": [
       "'/home/emad/code/emadam/glassdoor/glassdoor/db_login.env'"
      ]
     },
     "execution_count": 5,
     "metadata": {},
     "output_type": "execute_result"
    }
   ],
   "source": [
    "pd.set_option('display.max_columns', 10)\n",
    "\n",
    "env_path = os.path.join(r'/home/emad/code/emadam/glassdoor/glassdoor/', 'db_login.env')\n",
    "env_path"
   ]
  },
  {
   "cell_type": "code",
   "execution_count": 6,
   "id": "7dbd84db",
   "metadata": {},
   "outputs": [],
   "source": [
    "if os.path.exists(env_path):\n",
    "    load_dotenv(env_path)\n",
    "SERVER_NAME = os.getenv('server')\n",
    "DB_NAME = os.getenv('database')\n",
    "USERNAME = os.getenv(\"pymssql_username\")\n",
    "PASSWORD = os.getenv(\"pymssql_password\")"
   ]
  },
  {
   "cell_type": "code",
   "execution_count": 7,
   "id": "58993de7",
   "metadata": {},
   "outputs": [
    {
     "data": {
      "text/plain": [
       "('DESKTOP-TNNDC3L', 'Glassdoor', 'sa', 'Emad1983', '172.21.192.1')"
      ]
     },
     "execution_count": 7,
     "metadata": {},
     "output_type": "execute_result"
    }
   ],
   "source": [
    "SERVER_NAME, DB_NAME, USERNAME, PASSWORD, HOST_IP"
   ]
  },
  {
   "cell_type": "code",
   "execution_count": 8,
   "id": "088a2855",
   "metadata": {},
   "outputs": [],
   "source": [
    "class scraper(): \n",
    "    \n",
    "    def __init__(self, soup):\n",
    "        self.soup = soup\n",
    "        pass\n",
    "    \n",
    "    def extract_job_title_from_result(soup):\n",
    "        jobs = []\n",
    "        for a in soup.find_all(name=\"a\", attrs={\"data-test\": \"job-link\"}):\n",
    "            for spans in a.find_all(name=\"span\"):\n",
    "                jobs.append(spans.text)\n",
    "        return jobs\n",
    "\n",
    "\n",
    "    def extract_company_name_from_result(soup):\n",
    "        coname = []\n",
    "        for div in soup.find_all(name=\"div\", attrs={\"class\": \"e1rrn5ka0\"}):\n",
    "            for div in div.find_all(name=\"div\", attrs={\"class\": \"d-flex justify-content-between align-items-start\"}):\n",
    "                for a in div.find_all(name=\"a\"):\n",
    "                    for spans in a.find_all(name=\"span\"):\n",
    "                        coname.append(spans.text)\n",
    "        return coname\n",
    "\n",
    "\n",
    "    def extract_company_rate_from_result(soup):\n",
    "        corate = []\n",
    "        for div in soup.find_all(name=\"div\", attrs={\"class\": \"e1rrn5ka1\"}):\n",
    "            if div.find_all(name=\"span\", attrs={\"class\": \"e1cjmv6j0\"}):\n",
    "                for spans in div.find_all(name=\"span\", attrs={\"class\": \"e1cjmv6j0\"}):\n",
    "                    corate.append(spans.text)\n",
    "            else:\n",
    "                corate.append(np.nan)\n",
    "        return corate\n",
    "\n",
    "\n",
    "    def extract_company_location_from_result(soup):\n",
    "        coloc = []\n",
    "        for div in soup.find_all(name=\"div\", attrs={\"class\": \"e1rrn5ka2\"}):\n",
    "            for spans in div.find_all(name=\"span\"):\n",
    "                coloc.append(spans.text)\n",
    "        return coloc\n",
    "\n",
    "\n",
    "    def extract_company_salary_from_result(soup):\n",
    "        cosal = []\n",
    "        for div in soup.find_all(name=\"div\", attrs={\"class\": \"e1rrn5ka0\"}):\n",
    "            if div.find_all(name=\"div\", attrs={\"class\": \"e1rrn5ka3\"}):\n",
    "                for spans in div.find_all(name=\"span\", attrs={\"data-test\": \"detailSalary\"}):\n",
    "                    cosal.append(spans.text)\n",
    "            else:\n",
    "                cosal.append(np.nan)\n",
    "        return cosal\n",
    "\n",
    "\n",
    "    def extract_job_age_from_result(soup):\n",
    "        jobage = []\n",
    "        for div in soup.find_all(name='div', attrs={\"class\": [\"e1rrn5ka2\", \"e1rrn5ka3\"]}):\n",
    "            for age in div.find_all(name='div', attrs={\"data-test\": \"job-age\"}):\n",
    "                result = age.text\n",
    "                result = result.replace('24h', '1d')\n",
    "                result = result.replace('d', '')\n",
    "                result = result.replace('30+', '31')\n",
    "                t_dif = np.timedelta64(result, 'D')\n",
    "                if t_dif < np.timedelta64(31, 'D'):\n",
    "                    ad_date = np.datetime64(date.today()) - t_dif\n",
    "                    ad_date = ad_date.astype(datetime)\n",
    "                    jobage.append(ad_date)\n",
    "                else:\n",
    "                    jobage.append(np.nan)\n",
    "        return jobage\n",
    "\n",
    "\n",
    "    def job_seniority(job):\n",
    "        if job.find('Senior') != -1:\n",
    "            return 'Senior'\n",
    "        if job.find('Junior') != -1:\n",
    "            return 'Junior'\n",
    "        if job.find('Entry level') != -1:\n",
    "            return 'Entry level'\n",
    "        if job.find('Graduate') != -1:\n",
    "            return 'Graduate'\n",
    "        if job.find('Manager') != -1:\n",
    "            return 'Manager'\n",
    "        if job.find('Internship') != -1:\n",
    "            return 'Internship'\n",
    "        else:\n",
    "            return np.nan\n",
    "\n",
    "\n",
    "    def extract_job_link_from_result(soup):\n",
    "        joblink = []\n",
    "        for div in soup.find_all(name=\"div\", attrs={\"class\": \"e1rrn5ka0\"}):\n",
    "            for a in div.find_all(name='a', href=True):\n",
    "                joblink.append('glassdoor.com.au'+a['href'])\n",
    "            else:\n",
    "                joblink.append(np.nan)\n",
    "        return joblink"
   ]
  },
  {
   "cell_type": "code",
   "execution_count": 9,
   "id": "dca645d5",
   "metadata": {},
   "outputs": [],
   "source": [
    "headers = {\"User-Agent\": \"Mozilla/5.0 (Windows NT 6.3; Win64; x64) AppleWebKit/537.36 (KHTML, like Gecko) \"\n",
    "                         \"Chrome/92.0.4515.159 Safari/537.36\"}\n",
    "URL = f'https://www.glassdoor.com.au/Job/melbourne-junior-data-analyst-jobs-SRCH_IL.0,9_IC2264754_KO10,29.htm'\n",
    "resp = requests.get(URL, headers=headers)\n",
    "# specifying a desired format of page using the html parser\n",
    "soup = BeautifulSoup(resp.text, \"html.parser\")"
   ]
  },
  {
   "cell_type": "code",
   "execution_count": 10,
   "id": "dad1140f",
   "metadata": {},
   "outputs": [],
   "source": [
    "job_title = scraper.extract_job_title_from_result(soup)\n",
    "co_name = scraper.extract_company_name_from_result(soup)\n",
    "co_rate = scraper.extract_company_rate_from_result(soup)\n",
    "co_loc = scraper.extract_company_location_from_result(soup)\n",
    "co_sal = scraper.extract_company_salary_from_result(soup)\n",
    "job_age = scraper.extract_job_age_from_result(soup)\n",
    "# job_link = scraper.extract_job_link_from_result(soup)"
   ]
  },
  {
   "cell_type": "code",
   "execution_count": 11,
   "id": "95cd2a68",
   "metadata": {},
   "outputs": [],
   "source": [
    "data = list(zip(job_title, co_name, co_rate, co_loc, co_sal, job_age))#, job_link))\n",
    "job_data = pd.DataFrame(data)\n",
    "job_data = job_data.rename(columns={0: 'Job Title', 1: 'Company', 2: 'Rank', 3: 'Location', 4: 'Salary', 5: 'Ad Date'}) #,6: 'Hyperlink'})\n",
    "job_data['Ad Date'] = pd.to_datetime(job_data['Ad Date'])"
   ]
  },
  {
   "cell_type": "code",
   "execution_count": 12,
   "id": "5e7cf6d2",
   "metadata": {},
   "outputs": [
    {
     "name": "stdout",
     "output_type": "stream",
     "text": [
      "<class 'pandas.core.frame.DataFrame'>\n",
      "RangeIndex: 30 entries, 0 to 29\n",
      "Data columns (total 6 columns):\n",
      " #   Column     Non-Null Count  Dtype         \n",
      "---  ------     --------------  -----         \n",
      " 0   Job Title  30 non-null     object        \n",
      " 1   Company    30 non-null     object        \n",
      " 2   Rank       25 non-null     object        \n",
      " 3   Location   30 non-null     object        \n",
      " 4   Salary     21 non-null     object        \n",
      " 5   Ad Date    20 non-null     datetime64[ns]\n",
      "dtypes: datetime64[ns](1), object(5)\n",
      "memory usage: 1.5+ KB\n"
     ]
    }
   ],
   "source": [
    "job_data.info()"
   ]
  },
  {
   "cell_type": "code",
   "execution_count": 13,
   "id": "239bcfad",
   "metadata": {},
   "outputs": [],
   "source": [
    "try:\n",
    "    conn = pymssql.connect(host=HOST_IP, port=1433 , server=SERVER_NAME, database=DB_NAME, user=USERNAME, password=PASSWORD)\n",
    "    #     conn = pymssql.connect(host='localhost', port=1433 , server=SERVER_NAME, database=DB_NAME, user=USERNAME, password=PASSWORD)\n",
    "except pymssql.Error as err:\n",
    "    print((\"[ERROR] {}\".format(err))) #172.21.192.1"
   ]
  },
  {
   "cell_type": "code",
   "execution_count": 14,
   "id": "5da58788",
   "metadata": {},
   "outputs": [
    {
     "data": {
      "text/plain": [
       "[('jobs_final',), ('jobs_temp',), ('jobs',)]"
      ]
     },
     "execution_count": 14,
     "metadata": {},
     "output_type": "execute_result"
    }
   ],
   "source": [
    "cursor = conn.cursor()\n",
    "cursor.execute('SELECT TABLE_NAME FROM INFORMATION_SCHEMA.TABLES;')\n",
    "row = cursor.fetchall()\n",
    "row"
   ]
  },
  {
   "cell_type": "code",
   "execution_count": 15,
   "id": "f650af5e",
   "metadata": {},
   "outputs": [
    {
     "name": "stderr",
     "output_type": "stream",
     "text": [
      "/home/emad/.pyenv/versions/3.8.12/lib/python3.8/site-packages/pandas/io/sql.py:761: UserWarning: pandas only support SQLAlchemy connectable(engine/connection) ordatabase string URI or sqlite3 DBAPI2 connectionother DBAPI2 objects are not tested, please consider using SQLAlchemy\n",
      "  warnings.warn(\n"
     ]
    },
    {
     "data": {
      "text/html": [
       "<div>\n",
       "<style scoped>\n",
       "    .dataframe tbody tr th:only-of-type {\n",
       "        vertical-align: middle;\n",
       "    }\n",
       "\n",
       "    .dataframe tbody tr th {\n",
       "        vertical-align: top;\n",
       "    }\n",
       "\n",
       "    .dataframe thead th {\n",
       "        text-align: right;\n",
       "    }\n",
       "</style>\n",
       "<table border=\"1\" class=\"dataframe\">\n",
       "  <thead>\n",
       "    <tr style=\"text-align: right;\">\n",
       "      <th></th>\n",
       "      <th>Job Title</th>\n",
       "      <th>Company</th>\n",
       "      <th>Rank</th>\n",
       "      <th>Location</th>\n",
       "      <th>Salary</th>\n",
       "      <th>Ad Date</th>\n",
       "    </tr>\n",
       "  </thead>\n",
       "  <tbody>\n",
       "    <tr>\n",
       "      <th>0</th>\n",
       "      <td>Start your new career as a Data Analyst</td>\n",
       "      <td>Data School Down Under</td>\n",
       "      <td>4.5</td>\n",
       "      <td>Melbourne</td>\n",
       "      <td>A$50,000 - A$60,000 (Employer Est.)</td>\n",
       "      <td>None</td>\n",
       "    </tr>\n",
       "    <tr>\n",
       "      <th>1</th>\n",
       "      <td>Entry Level Data &amp; Reporting Analyst</td>\n",
       "      <td>Global 360</td>\n",
       "      <td>3.5</td>\n",
       "      <td>Doncaster</td>\n",
       "      <td>None</td>\n",
       "      <td>2021-09-09</td>\n",
       "    </tr>\n",
       "    <tr>\n",
       "      <th>2</th>\n",
       "      <td>Fraud Data &amp; Reporting Analyst</td>\n",
       "      <td>AGL Energy</td>\n",
       "      <td>3.4</td>\n",
       "      <td>Melbourne</td>\n",
       "      <td>None</td>\n",
       "      <td>2021-09-09</td>\n",
       "    </tr>\n",
       "    <tr>\n",
       "      <th>3</th>\n",
       "      <td>Investment Data Analyst</td>\n",
       "      <td>Vanguard</td>\n",
       "      <td>3.6</td>\n",
       "      <td>Melbourne</td>\n",
       "      <td>None</td>\n",
       "      <td>2021-09-09</td>\n",
       "    </tr>\n",
       "    <tr>\n",
       "      <th>4</th>\n",
       "      <td>Data Analyst</td>\n",
       "      <td>Each</td>\n",
       "      <td>3.0</td>\n",
       "      <td>Ringwood</td>\n",
       "      <td>A$190,800 (Employer Est.)</td>\n",
       "      <td>2021-09-09</td>\n",
       "    </tr>\n",
       "    <tr>\n",
       "      <th>...</th>\n",
       "      <td>...</td>\n",
       "      <td>...</td>\n",
       "      <td>...</td>\n",
       "      <td>...</td>\n",
       "      <td>...</td>\n",
       "      <td>...</td>\n",
       "    </tr>\n",
       "    <tr>\n",
       "      <th>1014</th>\n",
       "      <td>Sr Technical Support Analyst</td>\n",
       "      <td>ACI Worldwide</td>\n",
       "      <td>3.8</td>\n",
       "      <td>Melbourne</td>\n",
       "      <td>A$60,500 - A$78,000 (Glassdoor Est.)</td>\n",
       "      <td>2022-03-11</td>\n",
       "    </tr>\n",
       "    <tr>\n",
       "      <th>1015</th>\n",
       "      <td>Strategy Analyst</td>\n",
       "      <td>Simplot</td>\n",
       "      <td>4.4</td>\n",
       "      <td>Melbourne</td>\n",
       "      <td>A$90,000 - A$105,000 (Glassdoor Est.)</td>\n",
       "      <td>2022-03-10</td>\n",
       "    </tr>\n",
       "    <tr>\n",
       "      <th>1016</th>\n",
       "      <td>Test Analyst</td>\n",
       "      <td>Gentrack</td>\n",
       "      <td>3.6</td>\n",
       "      <td>Melbourne</td>\n",
       "      <td>None</td>\n",
       "      <td>None</td>\n",
       "    </tr>\n",
       "    <tr>\n",
       "      <th>1017</th>\n",
       "      <td>Workplace Experience Research - Consultant (Me...</td>\n",
       "      <td>Information Services Group</td>\n",
       "      <td>4.1</td>\n",
       "      <td>Melbourne</td>\n",
       "      <td>None</td>\n",
       "      <td>2022-03-26</td>\n",
       "    </tr>\n",
       "    <tr>\n",
       "      <th>1018</th>\n",
       "      <td>Data and Insights Analyst</td>\n",
       "      <td>Open Universities Australia</td>\n",
       "      <td>3.8</td>\n",
       "      <td>Docklands</td>\n",
       "      <td>A$65,000 - A$101,154 (Glassdoor Est.)</td>\n",
       "      <td>2022-03-08</td>\n",
       "    </tr>\n",
       "  </tbody>\n",
       "</table>\n",
       "<p>1019 rows × 6 columns</p>\n",
       "</div>"
      ],
      "text/plain": [
       "                                              Job Title  \\\n",
       "0               Start your new career as a Data Analyst   \n",
       "1                  Entry Level Data & Reporting Analyst   \n",
       "2                        Fraud Data & Reporting Analyst   \n",
       "3                               Investment Data Analyst   \n",
       "4                                          Data Analyst   \n",
       "...                                                 ...   \n",
       "1014                       Sr Technical Support Analyst   \n",
       "1015                                   Strategy Analyst   \n",
       "1016                                       Test Analyst   \n",
       "1017  Workplace Experience Research - Consultant (Me...   \n",
       "1018                          Data and Insights Analyst   \n",
       "\n",
       "                          Company  Rank   Location  \\\n",
       "0          Data School Down Under   4.5  Melbourne   \n",
       "1                      Global 360   3.5  Doncaster   \n",
       "2                      AGL Energy   3.4  Melbourne   \n",
       "3                        Vanguard   3.6  Melbourne   \n",
       "4                            Each   3.0   Ringwood   \n",
       "...                           ...   ...        ...   \n",
       "1014                ACI Worldwide   3.8  Melbourne   \n",
       "1015                      Simplot   4.4  Melbourne   \n",
       "1016                     Gentrack   3.6  Melbourne   \n",
       "1017   Information Services Group   4.1  Melbourne   \n",
       "1018  Open Universities Australia   3.8  Docklands   \n",
       "\n",
       "                                     Salary     Ad Date  \n",
       "0       A$50,000 - A$60,000 (Employer Est.)        None  \n",
       "1                                      None  2021-09-09  \n",
       "2                                      None  2021-09-09  \n",
       "3                                      None  2021-09-09  \n",
       "4                 A$190,800 (Employer Est.)  2021-09-09  \n",
       "...                                     ...         ...  \n",
       "1014   A$60,500 - A$78,000 (Glassdoor Est.)  2022-03-11  \n",
       "1015  A$90,000 - A$105,000 (Glassdoor Est.)  2022-03-10  \n",
       "1016                                   None        None  \n",
       "1017                                   None  2022-03-26  \n",
       "1018  A$65,000 - A$101,154 (Glassdoor Est.)  2022-03-08  \n",
       "\n",
       "[1019 rows x 6 columns]"
      ]
     },
     "execution_count": 15,
     "metadata": {},
     "output_type": "execute_result"
    }
   ],
   "source": [
    "SQL_Query = pd.read_sql_query(\n",
    "    '''select *\n",
    "        from [Glassdoor].[dbo].[jobs]''', conn)\n",
    "pd.DataFrame(SQL_Query)"
   ]
  },
  {
   "cell_type": "code",
   "execution_count": 16,
   "id": "dca69547",
   "metadata": {},
   "outputs": [
    {
     "data": {
      "text/plain": [
       "('sa', 'Emad1983', 'Glassdoor', '172.21.192.1')"
      ]
     },
     "execution_count": 16,
     "metadata": {},
     "output_type": "execute_result"
    }
   ],
   "source": [
    "USERNAME, PASSWORD, DB_NAME, HOST_IP"
   ]
  },
  {
   "cell_type": "code",
   "execution_count": 17,
   "id": "39196171",
   "metadata": {},
   "outputs": [],
   "source": [
    "engine = create_engine(f'mssql+pymssql://{USERNAME}:{PASSWORD}@{HOST_IP}:1433/{DB_NAME}', pool_pre_ping=True)"
   ]
  },
  {
   "cell_type": "code",
   "execution_count": 18,
   "id": "afa4e871",
   "metadata": {},
   "outputs": [],
   "source": [
    "job_data.to_sql(\"jobs_temp\", engine, if_exists='replace', index=False)\n",
    "query = \"\"\"\n",
    "        SELECT * FROM jobs_temp\n",
    "        EXCEPT\n",
    "        SELECT * FROM jobs;\n",
    "    \"\"\"\n",
    "new_entries = pd.read_sql(query, engine)"
   ]
  },
  {
   "cell_type": "code",
   "execution_count": 19,
   "id": "b1754812",
   "metadata": {},
   "outputs": [],
   "source": [
    "if ('jobs',) not in list(row):\n",
    "    job_data.to_sql(\"jobs\", engine, if_exists='replace', index=False, dtype={\n",
    "        'Job Title': String(255),\n",
    "        'Company': String(255),\n",
    "        'Rank': Float(),\n",
    "        'Location': String(255),\n",
    "        'Salary': String(255),\n",
    "        'Ad Date': DATE()#,\n",
    "        #'Hyperlink': String(255)\n",
    "    })\n",
    "else:\n",
    "    job_data.to_sql(\"jobs_temp\", engine, if_exists='replace', index=False)\n",
    "    query = \"\"\"\n",
    "        SELECT * FROM jobs_temp\n",
    "        EXCEPT\n",
    "        SELECT * FROM jobs;\n",
    "    \"\"\"\n",
    "    new_entries = pd.read_sql(query, engine)\n",
    "\n",
    "    new_entries.to_sql(\"jobs\", engine, if_exists='append', index=False, dtype={\n",
    "        'Job Title': String(255),\n",
    "        'Company': String(255),\n",
    "        'Rank': Float(),\n",
    "        'Location': String(255),\n",
    "        'Salary': String(255),\n",
    "        'Ad Date': DATE()#,\n",
    "        #'Hyperlink': String(255)\n",
    "    })\n",
    "\n"
   ]
  },
  {
   "cell_type": "code",
   "execution_count": 20,
   "id": "54f6e5ed",
   "metadata": {},
   "outputs": [
    {
     "name": "stderr",
     "output_type": "stream",
     "text": [
      "/home/emad/.pyenv/versions/3.8.12/lib/python3.8/site-packages/pandas/io/sql.py:761: UserWarning: pandas only support SQLAlchemy connectable(engine/connection) ordatabase string URI or sqlite3 DBAPI2 connectionother DBAPI2 objects are not tested, please consider using SQLAlchemy\n",
      "  warnings.warn(\n"
     ]
    }
   ],
   "source": [
    "SQL_Query = pd.read_sql_query(\n",
    "    '''select *\n",
    "        from [Glassdoor].[dbo].[jobs]''', conn)"
   ]
  },
  {
   "cell_type": "code",
   "execution_count": 21,
   "id": "b49d3f80",
   "metadata": {},
   "outputs": [
    {
     "name": "stdout",
     "output_type": "stream",
     "text": [
      "<class 'pandas.core.frame.DataFrame'>\n",
      "RangeIndex: 1022 entries, 0 to 1021\n",
      "Data columns (total 6 columns):\n",
      " #   Column     Non-Null Count  Dtype  \n",
      "---  ------     --------------  -----  \n",
      " 0   Job Title  1022 non-null   object \n",
      " 1   Company    1022 non-null   object \n",
      " 2   Rank       921 non-null    float64\n",
      " 3   Location   1022 non-null   object \n",
      " 4   Salary     656 non-null    object \n",
      " 5   Ad Date    904 non-null    object \n",
      "dtypes: float64(1), object(5)\n",
      "memory usage: 48.0+ KB\n"
     ]
    }
   ],
   "source": [
    "jobs_stored = pd.DataFrame(SQL_Query)\n",
    "jobs_stored.info()"
   ]
  },
  {
   "cell_type": "code",
   "execution_count": 22,
   "id": "3f95b976",
   "metadata": {},
   "outputs": [],
   "source": [
    "jobs_stored['Ad Date'] = pd.to_datetime(jobs_stored['Ad Date'])\n",
    "jobs_stored.sort_values(by=['Ad Date'], inplace=True)\n",
    "jobs_stored.drop_duplicates(subset=['Job Title', 'Company', 'Location'], keep='first', inplace=True)\n",
    "ad_count = jobs_stored.groupby('Ad Date').size()\n",
    "jobs_stored = jobs_stored.set_index(pd.DatetimeIndex(jobs_stored['Ad Date'])).sort_index()\n"
   ]
  },
  {
   "cell_type": "code",
   "execution_count": 23,
   "id": "dcd926ae",
   "metadata": {},
   "outputs": [
    {
     "name": "stdout",
     "output_type": "stream",
     "text": [
      "<class 'pandas.core.frame.DataFrame'>\n",
      "DatetimeIndex: 258 entries, 2021-08-13 to NaT\n",
      "Data columns (total 6 columns):\n",
      " #   Column     Non-Null Count  Dtype         \n",
      "---  ------     --------------  -----         \n",
      " 0   Job Title  258 non-null    object        \n",
      " 1   Company    258 non-null    object        \n",
      " 2   Rank       226 non-null    float64       \n",
      " 3   Location   258 non-null    object        \n",
      " 4   Salary     157 non-null    object        \n",
      " 5   Ad Date    241 non-null    datetime64[ns]\n",
      "dtypes: datetime64[ns](1), float64(1), object(4)\n",
      "memory usage: 14.1+ KB\n"
     ]
    }
   ],
   "source": [
    "jobs_stored.info()"
   ]
  },
  {
   "cell_type": "code",
   "execution_count": 24,
   "id": "9d56592c",
   "metadata": {},
   "outputs": [],
   "source": [
    "import regex as re"
   ]
  },
  {
   "cell_type": "code",
   "execution_count": 25,
   "id": "41478a4e",
   "metadata": {},
   "outputs": [],
   "source": [
    "def salary_convert(salary):\n",
    "    if salary == 0:\n",
    "        return np.nan\n",
    "    if salary < 1000:\n",
    "        return salary * 1788\n",
    "    else:\n",
    "        return salary"
   ]
  },
  {
   "cell_type": "code",
   "execution_count": 26,
   "id": "d8874d24",
   "metadata": {},
   "outputs": [
    {
     "data": {
      "text/html": [
       "<div>\n",
       "<style scoped>\n",
       "    .dataframe tbody tr th:only-of-type {\n",
       "        vertical-align: middle;\n",
       "    }\n",
       "\n",
       "    .dataframe tbody tr th {\n",
       "        vertical-align: top;\n",
       "    }\n",
       "\n",
       "    .dataframe thead th {\n",
       "        text-align: right;\n",
       "    }\n",
       "</style>\n",
       "<table border=\"1\" class=\"dataframe\">\n",
       "  <thead>\n",
       "    <tr style=\"text-align: right;\">\n",
       "      <th></th>\n",
       "      <th>Salary</th>\n",
       "      <th>Min_Salary</th>\n",
       "      <th>Max_Salary</th>\n",
       "    </tr>\n",
       "    <tr>\n",
       "      <th>Ad Date</th>\n",
       "      <th></th>\n",
       "      <th></th>\n",
       "      <th></th>\n",
       "    </tr>\n",
       "  </thead>\n",
       "  <tbody>\n",
       "    <tr>\n",
       "      <th>2021-08-13</th>\n",
       "      <td>None</td>\n",
       "      <td>NaN</td>\n",
       "      <td>NaN</td>\n",
       "    </tr>\n",
       "    <tr>\n",
       "      <th>2021-08-13</th>\n",
       "      <td>None</td>\n",
       "      <td>NaN</td>\n",
       "      <td>NaN</td>\n",
       "    </tr>\n",
       "    <tr>\n",
       "      <th>2021-08-19</th>\n",
       "      <td>None</td>\n",
       "      <td>NaN</td>\n",
       "      <td>NaN</td>\n",
       "    </tr>\n",
       "    <tr>\n",
       "      <th>2021-08-20</th>\n",
       "      <td>None</td>\n",
       "      <td>NaN</td>\n",
       "      <td>NaN</td>\n",
       "    </tr>\n",
       "    <tr>\n",
       "      <th>2021-08-20</th>\n",
       "      <td>None</td>\n",
       "      <td>NaN</td>\n",
       "      <td>NaN</td>\n",
       "    </tr>\n",
       "    <tr>\n",
       "      <th>...</th>\n",
       "      <td>...</td>\n",
       "      <td>...</td>\n",
       "      <td>...</td>\n",
       "    </tr>\n",
       "    <tr>\n",
       "      <th>NaT</th>\n",
       "      <td>A$90,000 (Employer Est.)</td>\n",
       "      <td>90000.0</td>\n",
       "      <td>NaN</td>\n",
       "    </tr>\n",
       "    <tr>\n",
       "      <th>NaT</th>\n",
       "      <td>A$64,000 - A$72,400 (Glassdoor Est.)</td>\n",
       "      <td>64000.0</td>\n",
       "      <td>72400.0</td>\n",
       "    </tr>\n",
       "    <tr>\n",
       "      <th>NaT</th>\n",
       "      <td>A$90,000 - A$130,000 (Employer Est.)</td>\n",
       "      <td>90000.0</td>\n",
       "      <td>130000.0</td>\n",
       "    </tr>\n",
       "    <tr>\n",
       "      <th>NaT</th>\n",
       "      <td>None</td>\n",
       "      <td>NaN</td>\n",
       "      <td>NaN</td>\n",
       "    </tr>\n",
       "    <tr>\n",
       "      <th>NaT</th>\n",
       "      <td>A$60,000 - A$105,000 (Glassdoor Est.)</td>\n",
       "      <td>60000.0</td>\n",
       "      <td>105000.0</td>\n",
       "    </tr>\n",
       "  </tbody>\n",
       "</table>\n",
       "<p>258 rows × 3 columns</p>\n",
       "</div>"
      ],
      "text/plain": [
       "                                           Salary  Min_Salary  Max_Salary\n",
       "Ad Date                                                                  \n",
       "2021-08-13                                   None         NaN         NaN\n",
       "2021-08-13                                   None         NaN         NaN\n",
       "2021-08-19                                   None         NaN         NaN\n",
       "2021-08-20                                   None         NaN         NaN\n",
       "2021-08-20                                   None         NaN         NaN\n",
       "...                                           ...         ...         ...\n",
       "NaT                      A$90,000 (Employer Est.)     90000.0         NaN\n",
       "NaT          A$64,000 - A$72,400 (Glassdoor Est.)     64000.0     72400.0\n",
       "NaT          A$90,000 - A$130,000 (Employer Est.)     90000.0    130000.0\n",
       "NaT                                          None         NaN         NaN\n",
       "NaT         A$60,000 - A$105,000 (Glassdoor Est.)     60000.0    105000.0\n",
       "\n",
       "[258 rows x 3 columns]"
      ]
     },
     "execution_count": 26,
     "metadata": {},
     "output_type": "execute_result"
    }
   ],
   "source": [
    "jobs_stored['Min_Salary'] = jobs_stored['Salary'].str.extract(r'([0-9]+,*[0-9]+).*')\n",
    "jobs_stored['Min_Salary'] = jobs_stored['Min_Salary'].str.replace(r'\\,', '', regex=True).astype(float).astype(\n",
    "    pd.Int64Dtype())\n",
    "\n",
    "jobs_stored['Max_Salary'] = jobs_stored['Salary'].str.extract(r'[0-9]+,*[0-9]+.*?([0-9]+,*[0-9]+)')\n",
    "jobs_stored['Max_Salary'] = jobs_stored['Max_Salary'].str.replace(r'\\,', '', regex=True).astype(float).astype(\n",
    "    pd.Int64Dtype())\n",
    "\n",
    "jobs_stored['Min_Salary'] = jobs_stored['Min_Salary'].fillna(value=0)\n",
    "jobs_stored_min = jobs_stored.apply(lambda x: salary_convert(x['Min_Salary']), axis=1)\n",
    "jobs_stored['Min_Salary'] = pd.DataFrame(jobs_stored_min)\n",
    "\n",
    "jobs_stored['Max_Salary'] = jobs_stored['Max_Salary'].fillna(value=0)\n",
    "jobs_stored_max = jobs_stored.apply(lambda x: salary_convert(x['Max_Salary']), axis=1)\n",
    "jobs_stored['Max_Salary'] = pd.DataFrame(jobs_stored_max)\n",
    "\n",
    "jobs_stored[['Salary', 'Min_Salary', 'Max_Salary']]"
   ]
  },
  {
   "cell_type": "code",
   "execution_count": 27,
   "id": "789bebd6",
   "metadata": {},
   "outputs": [
    {
     "data": {
      "text/html": [
       "<div>\n",
       "<style scoped>\n",
       "    .dataframe tbody tr th:only-of-type {\n",
       "        vertical-align: middle;\n",
       "    }\n",
       "\n",
       "    .dataframe tbody tr th {\n",
       "        vertical-align: top;\n",
       "    }\n",
       "\n",
       "    .dataframe thead th {\n",
       "        text-align: right;\n",
       "    }\n",
       "</style>\n",
       "<table border=\"1\" class=\"dataframe\">\n",
       "  <thead>\n",
       "    <tr style=\"text-align: right;\">\n",
       "      <th></th>\n",
       "      <th>Job Title</th>\n",
       "      <th>Seniority</th>\n",
       "    </tr>\n",
       "    <tr>\n",
       "      <th>Ad Date</th>\n",
       "      <th></th>\n",
       "      <th></th>\n",
       "    </tr>\n",
       "  </thead>\n",
       "  <tbody>\n",
       "    <tr>\n",
       "      <th>2021-08-13</th>\n",
       "      <td>Data Analyst</td>\n",
       "      <td>NaN</td>\n",
       "    </tr>\n",
       "    <tr>\n",
       "      <th>2021-08-13</th>\n",
       "      <td>Data Analyst</td>\n",
       "      <td>NaN</td>\n",
       "    </tr>\n",
       "    <tr>\n",
       "      <th>2021-08-19</th>\n",
       "      <td>Data Analyst</td>\n",
       "      <td>NaN</td>\n",
       "    </tr>\n",
       "    <tr>\n",
       "      <th>2021-08-20</th>\n",
       "      <td>Data Analyst</td>\n",
       "      <td>NaN</td>\n",
       "    </tr>\n",
       "    <tr>\n",
       "      <th>2021-08-20</th>\n",
       "      <td>Data Analyst</td>\n",
       "      <td>NaN</td>\n",
       "    </tr>\n",
       "    <tr>\n",
       "      <th>...</th>\n",
       "      <td>...</td>\n",
       "      <td>...</td>\n",
       "    </tr>\n",
       "    <tr>\n",
       "      <th>2022-03-23</th>\n",
       "      <td>Senior Data and Insights Analyst</td>\n",
       "      <td>Senior</td>\n",
       "    </tr>\n",
       "    <tr>\n",
       "      <th>2022-03-23</th>\n",
       "      <td>1st Line Security Analyst</td>\n",
       "      <td>NaN</td>\n",
       "    </tr>\n",
       "    <tr>\n",
       "      <th>2022-03-26</th>\n",
       "      <td>Workplace Experience Research - Consultant (Me...</td>\n",
       "      <td>NaN</td>\n",
       "    </tr>\n",
       "    <tr>\n",
       "      <th>2022-03-27</th>\n",
       "      <td>Sr CRA 3</td>\n",
       "      <td>NaN</td>\n",
       "    </tr>\n",
       "    <tr>\n",
       "      <th>2022-03-27</th>\n",
       "      <td>Junior Merchandise Planner - Toys</td>\n",
       "      <td>Junior</td>\n",
       "    </tr>\n",
       "  </tbody>\n",
       "</table>\n",
       "<p>241 rows × 2 columns</p>\n",
       "</div>"
      ],
      "text/plain": [
       "                                                    Job Title Seniority\n",
       "Ad Date                                                                \n",
       "2021-08-13                                       Data Analyst       NaN\n",
       "2021-08-13                                       Data Analyst       NaN\n",
       "2021-08-19                                       Data Analyst       NaN\n",
       "2021-08-20                                       Data Analyst       NaN\n",
       "2021-08-20                                       Data Analyst       NaN\n",
       "...                                                       ...       ...\n",
       "2022-03-23                   Senior Data and Insights Analyst    Senior\n",
       "2022-03-23                          1st Line Security Analyst       NaN\n",
       "2022-03-26  Workplace Experience Research - Consultant (Me...       NaN\n",
       "2022-03-27                                           Sr CRA 3       NaN\n",
       "2022-03-27                  Junior Merchandise Planner - Toys    Junior\n",
       "\n",
       "[241 rows x 2 columns]"
      ]
     },
     "execution_count": 27,
     "metadata": {},
     "output_type": "execute_result"
    }
   ],
   "source": [
    "jobs_stored['Seniority'] = jobs_stored['Job Title'].apply(lambda x: 'Senior' if x.find('Senior') != -1 else\n",
    "('Junior' if x.find('Junior') != -1 else ('Entry Level' if x.find('Entry level') != -1 else\n",
    "                                          ('Graduate' if x.find('Graduate') != -1 else\n",
    "                                           ('Manager' if x.find('Manager') != -1 else\n",
    "                                            ('Internship' if x.find('Internship') != -1 else np.nan))))))\n",
    "jobs_stored.dropna(subset=['Ad Date'], how='all', inplace=True)\n",
    "jobs_stored[['Job Title', 'Seniority']]"
   ]
  },
  {
   "cell_type": "code",
   "execution_count": 28,
   "id": "0aee44c7",
   "metadata": {},
   "outputs": [
    {
     "name": "stdout",
     "output_type": "stream",
     "text": [
      "Minimum Salary 95% Confidence Interval = [80417.9 87778.2]\n"
     ]
    }
   ],
   "source": [
    "min_sal = np.array(jobs_stored['Min_Salary'].dropna())\n",
    "sal_replicates = np.empty(10000)\n",
    "for i in range(10000):\n",
    "    sal_samples = np.random.choice(min_sal, len(min_sal))\n",
    "    sal_replicates[i] = np.mean(sal_samples)\n",
    "con_interval = np.percentile(sal_replicates, [2.5, 97.5])\n",
    "con_interval[0] = ('{:.1f}'.format(con_interval[0]))\n",
    "con_interval[1] = ('{:.1f}'.format(con_interval[1]))\n",
    "print(\"Minimum Salary 95% Confidence Interval = \" + str(con_interval))"
   ]
  },
  {
   "cell_type": "code",
   "execution_count": 29,
   "id": "e5b189ce",
   "metadata": {},
   "outputs": [
    {
     "name": "stdout",
     "output_type": "stream",
     "text": [
      "<class 'pandas.core.frame.DataFrame'>\n",
      "DatetimeIndex: 241 entries, 2021-08-13 to 2022-03-27\n",
      "Data columns (total 9 columns):\n",
      " #   Column      Non-Null Count  Dtype         \n",
      "---  ------      --------------  -----         \n",
      " 0   Job Title   241 non-null    object        \n",
      " 1   Company     241 non-null    object        \n",
      " 2   Rank        210 non-null    float64       \n",
      " 3   Location    241 non-null    object        \n",
      " 4   Salary      145 non-null    object        \n",
      " 5   Ad Date     241 non-null    datetime64[ns]\n",
      " 6   Min_Salary  145 non-null    float64       \n",
      " 7   Max_Salary  136 non-null    float64       \n",
      " 8   Seniority   47 non-null     object        \n",
      "dtypes: datetime64[ns](1), float64(3), object(5)\n",
      "memory usage: 18.8+ KB\n"
     ]
    }
   ],
   "source": [
    "jobs_stored.info()"
   ]
  },
  {
   "cell_type": "code",
   "execution_count": 30,
   "id": "80c6917a",
   "metadata": {},
   "outputs": [
    {
     "data": {
      "image/png": "[encoded data removed]",
      "text/plain": [
       "<Figure size 1152x792 with 4 Axes>"
      ]
     },
     "metadata": {},
     "output_type": "display_data"
    }
   ],
   "source": [
    "plt.style.use('seaborn-whitegrid')\n",
    "sns.set()\n",
    "fig, ax = plt.subplots(2, 2)\n",
    "fig.set_size_inches(16, 11)\n",
    "min_salary = jobs_stored['Min_Salary']\n",
    "before_Date = jobs_stored['Ad Date'] < pd.to_datetime('2021-10-15')\n",
    "ax[0, 0].plot(Cdf.from_seq(min_salary[before_Date].dropna()), label='Before 2021 October 15')\n",
    "ax[0, 0].plot(Cdf.from_seq(min_salary[~before_Date].dropna()), label='After 2021 October 15')\n",
    "x_min = np.sort(jobs_stored['Min_Salary'].dropna())\n",
    "y_min = np.arange(1, len(x_min) + 1) / len(x_min)\n",
    "x_max = np.sort(jobs_stored['Max_Salary'].dropna())\n",
    "y_max = np.arange(1, len(x_max) + 1) / len(x_max)\n",
    "pct_list = np.array([25, 50, 75])\n",
    "maxpct_val = np.percentile(jobs_stored['Max_Salary'].dropna(), pct_list)\n",
    "minpct_val = np.percentile(jobs_stored['Min_Salary'].dropna(), pct_list)\n",
    "ax[0, 0].set_ylabel('CDF')\n",
    "ax[0, 0].set_title('Distribution of minimum salary of \"Data Analyst\" jobs on Glassdoor')\n",
    "ax[0, 0].legend()\n",
    "ax[0, 0].set_xlabel('Estimated salary')\n",
    "\n",
    "ax[0, 1].plot(x_min, y_min, marker='.', linestyle='none', color='r', label='Minimum salary')\n",
    "ax[0, 1].plot(x_max, y_max, marker='.', linestyle='none', color='b', label='Maximum salary')\n",
    "ax[0, 1].plot(maxpct_val, pct_list / 100, marker='^', linestyle='none', color='c',\n",
    "              label='25th, 50th and 75th Percentile')\n",
    "ax[0, 1].plot(minpct_val, pct_list / 100, marker='^', linestyle='none', color='k',\n",
    "              label='25th, 50th and 75th Percentile')\n",
    "ax[0, 1].annotate('Mean:', xy=(jobs_stored['Min_Salary'].mean().astype('int64'), 0.5), xytext=(40000, 0.9),\n",
    "                  arrowprops=dict(arrowstyle=\"fancy\", facecolor='green', connectionstyle=\"angle3,angleA=0,angleB=-90\"), )\n",
    "ax[0, 1].set_ylabel('ECDF')\n",
    "ax[0, 1].set_title('Distribution of min and max salary of \"Data Analyst\" on Glassdoor')\n",
    "ax[0, 1].legend()\n",
    "ax[0, 1].set_xlabel('Estimated salary')\n",
    "\n",
    "ax[1, 0].bar(jobs_stored.index.unique(), ad_count, linestyle='None', color='r')\n",
    "ax[1, 0].figure.canvas.draw()\n",
    "ax[1, 0].tick_params(axis='x', which='major', rotation=20, direction='inout', length=6, width=2,\n",
    "                     color='k', labelcolor='royalblue')\n",
    "ax[1, 0].set_xlabel('Date of Advertisement', labelpad=0.0, color='magenta')\n",
    "ax[1, 0].set_ylabel('Number of Ads', color='purple')\n",
    "ax[1, 0].set_title('\\'Data Analyst Job\\' Advertisements in Glassdoor website', color='limegreen')\n",
    "\n",
    "ax[1, 1].pie(jobs_stored['Seniority'].value_counts(), labels=jobs_stored['Seniority'].dropna().unique(),\n",
    "             normalize=True, autopct='%1.1f%%', shadow=True, startangle=0)\n",
    "ax[1, 1].set_title('Job Ads seniority level count')\n",
    "# plt.tight_layout()\n",
    "fig.savefig(\"glassdoor\" + np.datetime64(date.today()).astype('str') + \".png\")"
   ]
  }
 ],
 "metadata": {
  "kernelspec": {
   "display_name": "Python 3 (ipykernel)",
   "language": "python",
   "name": "python3"
  },
  "language_info": {
   "codemirror_mode": {
    "name": "ipython",
    "version": 3
   },
   "file_extension": ".py",
   "mimetype": "text/x-python",
   "name": "python",
   "nbconvert_exporter": "python",
   "pygments_lexer": "ipython3",
   "version": "3.8.12"
  },
  "toc": {
   "base_numbering": 1,
   "nav_menu": {},
   "number_sections": true,
   "sideBar": true,
   "skip_h1_title": false,
   "title_cell": "Table of Contents",
   "title_sidebar": "Contents",
   "toc_cell": false,
   "toc_position": {},
   "toc_section_display": true,
   "toc_window_display": false
  }
 },
 "nbformat": 4,
 "nbformat_minor": 5
}
