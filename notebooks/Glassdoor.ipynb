{
 "cells": [
  {
   "cell_type": "code",
   "execution_count": 1,
   "id": "aa562957",
   "metadata": {},
   "outputs": [],
   "source": [
    "import requests\n",
    "from bs4 import BeautifulSoup\n",
    "import pandas as pd\n",
    "import numpy as np\n",
    "from sqlalchemy import create_engine, String, Float, DATE\n",
    "import pymssql\n",
    "from datetime import date, datetime\n",
    "import matplotlib.pyplot as plt\n",
    "import os\n",
    "from dotenv import load_dotenv\n",
    "from empiricaldist import Cdf\n",
    "import seaborn as sns"
   ]
  },
  {
   "cell_type": "code",
   "execution_count": 2,
   "id": "493b5da3",
   "metadata": {},
   "outputs": [],
   "source": [
    "# ! heroku config:get DATABASE_URL "
   ]
  },
  {
   "cell_type": "code",
   "execution_count": 26,
   "id": "4cd51d10",
   "metadata": {},
   "outputs": [
    {
     "data": {
      "text/plain": [
       "'/home/emad/code/emadam/glassdoor/glassdoor/postgres_login.env'"
      ]
     },
     "execution_count": 26,
     "metadata": {},
     "output_type": "execute_result"
    }
   ],
   "source": [
    "pd.set_option('display.max_columns', 10)\n",
    "\n",
    "env_path = os.path.join(r'/home/emad/code/emadam/glassdoor/glassdoor/',\n",
    "                        'postgres_login.env')\n",
    "env_path"
   ]
  },
  {
   "cell_type": "code",
   "execution_count": 31,
   "id": "7dbd84db",
   "metadata": {},
   "outputs": [],
   "source": [
    "if os.path.exists(env_path):\n",
    "    load_dotenv(env_path)\n",
    "DATABASE = os.getenv('database')\n",
    "USERNAME = os.getenv('username')\n",
    "PASSWORD = os.getenv('password')\n",
    "HOST = os.getenv('host')"
   ]
  },
  {
   "cell_type": "code",
   "execution_count": 32,
   "id": "58993de7",
   "metadata": {},
   "outputs": [
    {
     "data": {
      "text/plain": [
       "('dbbib70qjmd58r',\n",
       " 'svlqmfjeeogcqe',\n",
       " 'f5e3f6a69bffad5b5411eafb5115fd6accf7eef9a866ca36d70df23b0595eb0e',\n",
       " 'ec2-52-18-116-67.eu-west-1.compute.amazonaws.com')"
      ]
     },
     "execution_count": 32,
     "metadata": {},
     "output_type": "execute_result"
    }
   ],
   "source": [
    "DATABASE, USERNAME, PASSWORD, HOST"
   ]
  },
  {
   "cell_type": "code",
   "execution_count": 6,
   "id": "088a2855",
   "metadata": {},
   "outputs": [],
   "source": [
    "class scraper():\n",
    "\n",
    "    def __init__(self, soup):\n",
    "        self.soup = soup\n",
    "        pass\n",
    "\n",
    "    def extract_job_title_from_result(soup):\n",
    "        jobs = []\n",
    "        for a in soup.find_all(name=\"a\", attrs={\"data-test\": \"job-link\"}):\n",
    "            for spans in a.find_all(name=\"span\"):\n",
    "                jobs.append(spans.text)\n",
    "        return jobs\n",
    "\n",
    "    def extract_company_name_from_result(soup):\n",
    "        coname = []\n",
    "        for div in soup.find_all(name=\"div\", attrs={\"class\": \"e1rrn5ka0\"}):\n",
    "            for div in div.find_all(name=\"div\", attrs={\"class\": \"d-flex justify-content-between align-items-start\"}):\n",
    "                for a in div.find_all(name=\"a\"):\n",
    "                    for spans in a.find_all(name=\"span\"):\n",
    "                        coname.append(spans.text)\n",
    "        return coname\n",
    "\n",
    "    def extract_company_rate_from_result(soup):\n",
    "        corate = []\n",
    "        for div in soup.find_all(name=\"div\", attrs={\"class\": \"e1rrn5ka1\"}):\n",
    "            if div.find_all(name=\"span\", attrs={\"class\": \"e1cjmv6j0\"}):\n",
    "                for spans in div.find_all(name=\"span\", attrs={\"class\": \"e1cjmv6j0\"}):\n",
    "                    corate.append(spans.text)\n",
    "            else:\n",
    "                corate.append(np.nan)\n",
    "        return corate\n",
    "\n",
    "    def extract_company_location_from_result(soup):\n",
    "        coloc = []\n",
    "        for div in soup.find_all(name=\"div\", attrs={\"class\": \"e1rrn5ka2\"}):\n",
    "            for spans in div.find_all(name=\"span\"):\n",
    "                coloc.append(spans.text)\n",
    "        return coloc\n",
    "\n",
    "    def extract_company_salary_from_result(soup):\n",
    "        cosal = []\n",
    "        for div in soup.find_all(name=\"div\", attrs={\"class\": \"e1rrn5ka0\"}):\n",
    "            if div.find_all(name=\"div\", attrs={\"class\": \"e1rrn5ka3\"}):\n",
    "                for spans in div.find_all(name=\"span\", attrs={\"data-test\": \"detailSalary\"}):\n",
    "                    cosal.append(spans.text)\n",
    "            else:\n",
    "                cosal.append(np.nan)\n",
    "        return cosal\n",
    "\n",
    "    def extract_job_age_from_result(soup):\n",
    "        jobage = []\n",
    "        for div in soup.find_all(name='div', attrs={\"class\": [\"e1rrn5ka2\", \"e1rrn5ka3\"]}):\n",
    "            for age in div.find_all(name='div', attrs={\"data-test\": \"job-age\"}):\n",
    "                result = age.text\n",
    "                result = result.replace('24h', '1d')\n",
    "                result = result.replace('d', '')\n",
    "                result = result.replace('30+', '31')\n",
    "                t_dif = np.timedelta64(result, 'D')\n",
    "                if t_dif < np.timedelta64(31, 'D'):\n",
    "                    ad_date = np.datetime64(date.today()) - t_dif\n",
    "                    ad_date = ad_date.astype(datetime)\n",
    "                    jobage.append(ad_date)\n",
    "                else:\n",
    "                    jobage.append(np.nan)\n",
    "        return jobage\n",
    "\n",
    "    def job_seniority(job):\n",
    "        if job.find('Senior') != -1:\n",
    "            return 'Senior'\n",
    "        if job.find('Junior') != -1:\n",
    "            return 'Junior'\n",
    "        if job.find('Entry level') != -1:\n",
    "            return 'Entry level'\n",
    "        if job.find('Graduate') != -1:\n",
    "            return 'Graduate'\n",
    "        if job.find('Manager') != -1:\n",
    "            return 'Manager'\n",
    "        if job.find('Internship') != -1:\n",
    "            return 'Internship'\n",
    "        else:\n",
    "            return np.nan\n",
    "\n",
    "    def extract_job_link_from_result(soup):\n",
    "        joblink = []\n",
    "        for div in soup.find_all(name=\"div\", attrs={\"class\": \"e1rrn5ka0\"}):\n",
    "            for a in div.find_all(name='a', href=True):\n",
    "                joblink.append('glassdoor.com.au'+a['href'])\n",
    "            else:\n",
    "                joblink.append(np.nan)\n",
    "        return joblink"
   ]
  },
  {
   "cell_type": "code",
   "execution_count": 7,
   "id": "dca645d5",
   "metadata": {},
   "outputs": [],
   "source": [
    "headers = {\"User-Agent\": \"Mozilla/5.0 (Windows NT 6.3; Win64; x64) AppleWebKit/537.36 (KHTML, like Gecko) \"\n",
    "                         \"Chrome/92.0.4515.159 Safari/537.36\"}\n",
    "URL = f'https://www.glassdoor.com.au/Job/melbourne-junior-data-analyst-jobs-SRCH_IL.0,9_IC2264754_KO10,29.htm'\n",
    "resp = requests.get(URL, headers=headers)\n",
    "# specifying a desired format of page using the html parser\n",
    "soup = BeautifulSoup(resp.text, \"html.parser\")"
   ]
  },
  {
   "cell_type": "code",
   "execution_count": 8,
   "id": "dad1140f",
   "metadata": {},
   "outputs": [],
   "source": [
    "job_title = scraper.extract_job_title_from_result(soup)\n",
    "co_name = scraper.extract_company_name_from_result(soup)\n",
    "co_rate = scraper.extract_company_rate_from_result(soup)\n",
    "co_loc = scraper.extract_company_location_from_result(soup)\n",
    "co_sal = scraper.extract_company_salary_from_result(soup)\n",
    "job_age = scraper.extract_job_age_from_result(soup)\n",
    "# job_link = scraper.extract_job_link_from_result(soup)"
   ]
  },
  {
   "cell_type": "code",
   "execution_count": 9,
   "id": "95cd2a68",
   "metadata": {},
   "outputs": [],
   "source": [
    "# , job_link))\n",
    "data = list(zip(job_title, co_name, co_rate, co_loc, co_sal, job_age))\n",
    "job_data = pd.DataFrame(data)\n",
    "job_data = job_data.rename(columns={0: 'Job Title', 1: 'Company', 2: 'Rank',\n",
    "                           3: 'Location', 4: 'Salary', 5: 'Ad Date'})  # ,6: 'Hyperlink'})\n",
    "job_data['Ad Date'] = pd.to_datetime(job_data['Ad Date'])"
   ]
  },
  {
   "cell_type": "code",
   "execution_count": 10,
   "id": "5e7cf6d2",
   "metadata": {},
   "outputs": [
    {
     "name": "stdout",
     "output_type": "stream",
     "text": [
      "<class 'pandas.core.frame.DataFrame'>\n",
      "RangeIndex: 30 entries, 0 to 29\n",
      "Data columns (total 6 columns):\n",
      " #   Column     Non-Null Count  Dtype         \n",
      "---  ------     --------------  -----         \n",
      " 0   Job Title  30 non-null     object        \n",
      " 1   Company    30 non-null     object        \n",
      " 2   Rank       25 non-null     object        \n",
      " 3   Location   30 non-null     object        \n",
      " 4   Salary     21 non-null     object        \n",
      " 5   Ad Date    22 non-null     datetime64[ns]\n",
      "dtypes: datetime64[ns](1), object(5)\n",
      "memory usage: 1.5+ KB\n"
     ]
    }
   ],
   "source": [
    "job_data.info()"
   ]
  },
  {
   "cell_type": "code",
   "execution_count": 33,
   "id": "39196171",
   "metadata": {},
   "outputs": [],
   "source": [
    "engine = create_engine(f\"postgresql://{USERNAME}:{PASSWORD}@{HOST}:5432/{DATABASE}\")"
   ]
  },
  {
   "cell_type": "code",
   "execution_count": 12,
   "id": "0ab972b8",
   "metadata": {},
   "outputs": [
    {
     "data": {
      "text/plain": [
       "30"
      ]
     },
     "execution_count": 12,
     "metadata": {},
     "output_type": "execute_result"
    }
   ],
   "source": [
    "job_data.to_sql(\"job_data\", engine, if_exists='append', index=False)"
   ]
  },
  {
   "cell_type": "code",
   "execution_count": 15,
   "id": "02b23997",
   "metadata": {},
   "outputs": [],
   "source": [
    "jobs_stored = pd.read_sql(\"job_data\", engine)"
   ]
  },
  {
   "cell_type": "code",
   "execution_count": 16,
   "id": "3f95b976",
   "metadata": {},
   "outputs": [],
   "source": [
    "jobs_stored['Ad Date'] = pd.to_datetime(jobs_stored['Ad Date'])\n",
    "jobs_stored.sort_values(by=['Ad Date'], inplace=True)\n",
    "jobs_stored.drop_duplicates(subset=['Job Title', 'Company', 'Location'], keep='first', inplace=True)\n",
    "ad_count = jobs_stored.groupby('Ad Date').size()\n",
    "jobs_stored = jobs_stored.set_index(pd.DatetimeIndex(jobs_stored['Ad Date'])).sort_index()\n"
   ]
  },
  {
   "cell_type": "code",
   "execution_count": 17,
   "id": "dcd926ae",
   "metadata": {},
   "outputs": [
    {
     "name": "stdout",
     "output_type": "stream",
     "text": [
      "<class 'pandas.core.frame.DataFrame'>\n",
      "DatetimeIndex: 267 entries, 2021-08-13 to NaT\n",
      "Data columns (total 6 columns):\n",
      " #   Column     Non-Null Count  Dtype         \n",
      "---  ------     --------------  -----         \n",
      " 0   Job Title  267 non-null    object        \n",
      " 1   Company    267 non-null    object        \n",
      " 2   Rank       234 non-null    float64       \n",
      " 3   Location   267 non-null    object        \n",
      " 4   Salary     170 non-null    object        \n",
      " 5   Ad Date    247 non-null    datetime64[ns]\n",
      "dtypes: datetime64[ns](1), float64(1), object(4)\n",
      "memory usage: 14.6+ KB\n"
     ]
    }
   ],
   "source": [
    "jobs_stored.info()"
   ]
  },
  {
   "cell_type": "code",
   "execution_count": 18,
   "id": "9d56592c",
   "metadata": {},
   "outputs": [],
   "source": [
    "import regex as re"
   ]
  },
  {
   "cell_type": "code",
   "execution_count": 19,
   "id": "41478a4e",
   "metadata": {},
   "outputs": [],
   "source": [
    "def salary_convert(salary):\n",
    "    if salary == 0:\n",
    "        return np.nan\n",
    "    if salary < 1000:\n",
    "        return salary * 1788\n",
    "    else:\n",
    "        return salary"
   ]
  },
  {
   "cell_type": "code",
   "execution_count": 20,
   "id": "d8874d24",
   "metadata": {},
   "outputs": [
    {
     "data": {
      "text/html": [
       "<div>\n",
       "<style scoped>\n",
       "    .dataframe tbody tr th:only-of-type {\n",
       "        vertical-align: middle;\n",
       "    }\n",
       "\n",
       "    .dataframe tbody tr th {\n",
       "        vertical-align: top;\n",
       "    }\n",
       "\n",
       "    .dataframe thead th {\n",
       "        text-align: right;\n",
       "    }\n",
       "</style>\n",
       "<table border=\"1\" class=\"dataframe\">\n",
       "  <thead>\n",
       "    <tr style=\"text-align: right;\">\n",
       "      <th></th>\n",
       "      <th>Salary</th>\n",
       "      <th>Min_Salary</th>\n",
       "      <th>Max_Salary</th>\n",
       "    </tr>\n",
       "    <tr>\n",
       "      <th>Ad Date</th>\n",
       "      <th></th>\n",
       "      <th></th>\n",
       "      <th></th>\n",
       "    </tr>\n",
       "  </thead>\n",
       "  <tbody>\n",
       "    <tr>\n",
       "      <th>2021-08-13</th>\n",
       "      <td>None</td>\n",
       "      <td>NaN</td>\n",
       "      <td>NaN</td>\n",
       "    </tr>\n",
       "    <tr>\n",
       "      <th>2021-08-13</th>\n",
       "      <td>None</td>\n",
       "      <td>NaN</td>\n",
       "      <td>NaN</td>\n",
       "    </tr>\n",
       "    <tr>\n",
       "      <th>2021-08-19</th>\n",
       "      <td>None</td>\n",
       "      <td>NaN</td>\n",
       "      <td>NaN</td>\n",
       "    </tr>\n",
       "    <tr>\n",
       "      <th>2021-08-20</th>\n",
       "      <td>None</td>\n",
       "      <td>NaN</td>\n",
       "      <td>NaN</td>\n",
       "    </tr>\n",
       "    <tr>\n",
       "      <th>2021-08-20</th>\n",
       "      <td>None</td>\n",
       "      <td>NaN</td>\n",
       "      <td>NaN</td>\n",
       "    </tr>\n",
       "    <tr>\n",
       "      <th>...</th>\n",
       "      <td>...</td>\n",
       "      <td>...</td>\n",
       "      <td>...</td>\n",
       "    </tr>\n",
       "    <tr>\n",
       "      <th>NaT</th>\n",
       "      <td>None</td>\n",
       "      <td>NaN</td>\n",
       "      <td>NaN</td>\n",
       "    </tr>\n",
       "    <tr>\n",
       "      <th>NaT</th>\n",
       "      <td>A$60,000 - A$105,000 (Glassdoor Est.)</td>\n",
       "      <td>60000.0</td>\n",
       "      <td>105000.0</td>\n",
       "    </tr>\n",
       "    <tr>\n",
       "      <th>NaT</th>\n",
       "      <td>A$63 - A$88 Per Hour(Employer Est.)</td>\n",
       "      <td>112644.0</td>\n",
       "      <td>157344.0</td>\n",
       "    </tr>\n",
       "    <tr>\n",
       "      <th>NaT</th>\n",
       "      <td>A$79,711 - A$100,000 (Glassdoor Est.)</td>\n",
       "      <td>79711.0</td>\n",
       "      <td>100000.0</td>\n",
       "    </tr>\n",
       "    <tr>\n",
       "      <th>NaT</th>\n",
       "      <td>A$121,907 - A$139,354 (Glassdoor Est.)</td>\n",
       "      <td>121907.0</td>\n",
       "      <td>139354.0</td>\n",
       "    </tr>\n",
       "  </tbody>\n",
       "</table>\n",
       "<p>267 rows × 3 columns</p>\n",
       "</div>"
      ],
      "text/plain": [
       "                                            Salary  Min_Salary  Max_Salary\n",
       "Ad Date                                                                   \n",
       "2021-08-13                                    None         NaN         NaN\n",
       "2021-08-13                                    None         NaN         NaN\n",
       "2021-08-19                                    None         NaN         NaN\n",
       "2021-08-20                                    None         NaN         NaN\n",
       "2021-08-20                                    None         NaN         NaN\n",
       "...                                            ...         ...         ...\n",
       "NaT                                           None         NaN         NaN\n",
       "NaT          A$60,000 - A$105,000 (Glassdoor Est.)     60000.0    105000.0\n",
       "NaT            A$63 - A$88 Per Hour(Employer Est.)    112644.0    157344.0\n",
       "NaT          A$79,711 - A$100,000 (Glassdoor Est.)     79711.0    100000.0\n",
       "NaT         A$121,907 - A$139,354 (Glassdoor Est.)    121907.0    139354.0\n",
       "\n",
       "[267 rows x 3 columns]"
      ]
     },
     "execution_count": 20,
     "metadata": {},
     "output_type": "execute_result"
    }
   ],
   "source": [
    "jobs_stored['Min_Salary'] = jobs_stored['Salary'].str.extract(r'([0-9]+,*[0-9]+).*')\n",
    "jobs_stored['Min_Salary'] = jobs_stored['Min_Salary'].str.replace(r'\\,', '', regex=True).astype(float).astype(\n",
    "    pd.Int64Dtype())\n",
    "\n",
    "jobs_stored['Max_Salary'] = jobs_stored['Salary'].str.extract(r'[0-9]+,*[0-9]+.*?([0-9]+,*[0-9]+)')\n",
    "jobs_stored['Max_Salary'] = jobs_stored['Max_Salary'].str.replace(r'\\,', '', regex=True).astype(float).astype(\n",
    "    pd.Int64Dtype())\n",
    "\n",
    "jobs_stored['Min_Salary'] = jobs_stored['Min_Salary'].fillna(value=0)\n",
    "jobs_stored_min = jobs_stored.apply(lambda x: salary_convert(x['Min_Salary']), axis=1)\n",
    "jobs_stored['Min_Salary'] = pd.DataFrame(jobs_stored_min)\n",
    "\n",
    "jobs_stored['Max_Salary'] = jobs_stored['Max_Salary'].fillna(value=0)\n",
    "jobs_stored_max = jobs_stored.apply(lambda x: salary_convert(x['Max_Salary']), axis=1)\n",
    "jobs_stored['Max_Salary'] = pd.DataFrame(jobs_stored_max)\n",
    "\n",
    "jobs_stored[['Salary', 'Min_Salary', 'Max_Salary']]"
   ]
  },
  {
   "cell_type": "code",
   "execution_count": 21,
   "id": "789bebd6",
   "metadata": {},
   "outputs": [
    {
     "data": {
      "text/html": [
       "<div>\n",
       "<style scoped>\n",
       "    .dataframe tbody tr th:only-of-type {\n",
       "        vertical-align: middle;\n",
       "    }\n",
       "\n",
       "    .dataframe tbody tr th {\n",
       "        vertical-align: top;\n",
       "    }\n",
       "\n",
       "    .dataframe thead th {\n",
       "        text-align: right;\n",
       "    }\n",
       "</style>\n",
       "<table border=\"1\" class=\"dataframe\">\n",
       "  <thead>\n",
       "    <tr style=\"text-align: right;\">\n",
       "      <th></th>\n",
       "      <th>Job Title</th>\n",
       "      <th>Seniority</th>\n",
       "    </tr>\n",
       "    <tr>\n",
       "      <th>Ad Date</th>\n",
       "      <th></th>\n",
       "      <th></th>\n",
       "    </tr>\n",
       "  </thead>\n",
       "  <tbody>\n",
       "    <tr>\n",
       "      <th>2021-08-13</th>\n",
       "      <td>Data Analyst</td>\n",
       "      <td>NaN</td>\n",
       "    </tr>\n",
       "    <tr>\n",
       "      <th>2021-08-13</th>\n",
       "      <td>Data Analyst</td>\n",
       "      <td>NaN</td>\n",
       "    </tr>\n",
       "    <tr>\n",
       "      <th>2021-08-19</th>\n",
       "      <td>Data Analyst</td>\n",
       "      <td>NaN</td>\n",
       "    </tr>\n",
       "    <tr>\n",
       "      <th>2021-08-20</th>\n",
       "      <td>Data Analyst</td>\n",
       "      <td>NaN</td>\n",
       "    </tr>\n",
       "    <tr>\n",
       "      <th>2021-08-20</th>\n",
       "      <td>Data Analyst</td>\n",
       "      <td>NaN</td>\n",
       "    </tr>\n",
       "    <tr>\n",
       "      <th>...</th>\n",
       "      <td>...</td>\n",
       "      <td>...</td>\n",
       "    </tr>\n",
       "    <tr>\n",
       "      <th>2022-03-26</th>\n",
       "      <td>Workplace Experience Research - Consultant (Me...</td>\n",
       "      <td>NaN</td>\n",
       "    </tr>\n",
       "    <tr>\n",
       "      <th>2022-03-27</th>\n",
       "      <td>Sr CRA 3</td>\n",
       "      <td>NaN</td>\n",
       "    </tr>\n",
       "    <tr>\n",
       "      <th>2022-03-27</th>\n",
       "      <td>Junior Merchandise Planner - Toys</td>\n",
       "      <td>Junior</td>\n",
       "    </tr>\n",
       "    <tr>\n",
       "      <th>2022-03-30</th>\n",
       "      <td>Senior Business Analyst</td>\n",
       "      <td>Senior</td>\n",
       "    </tr>\n",
       "    <tr>\n",
       "      <th>2022-03-31</th>\n",
       "      <td>Senior Java Analyst - 775289</td>\n",
       "      <td>Senior</td>\n",
       "    </tr>\n",
       "  </tbody>\n",
       "</table>\n",
       "<p>247 rows × 2 columns</p>\n",
       "</div>"
      ],
      "text/plain": [
       "                                                    Job Title Seniority\n",
       "Ad Date                                                                \n",
       "2021-08-13                                       Data Analyst       NaN\n",
       "2021-08-13                                       Data Analyst       NaN\n",
       "2021-08-19                                       Data Analyst       NaN\n",
       "2021-08-20                                       Data Analyst       NaN\n",
       "2021-08-20                                       Data Analyst       NaN\n",
       "...                                                       ...       ...\n",
       "2022-03-26  Workplace Experience Research - Consultant (Me...       NaN\n",
       "2022-03-27                                           Sr CRA 3       NaN\n",
       "2022-03-27                  Junior Merchandise Planner - Toys    Junior\n",
       "2022-03-30                            Senior Business Analyst    Senior\n",
       "2022-03-31                       Senior Java Analyst - 775289    Senior\n",
       "\n",
       "[247 rows x 2 columns]"
      ]
     },
     "execution_count": 21,
     "metadata": {},
     "output_type": "execute_result"
    }
   ],
   "source": [
    "jobs_stored['Seniority'] = jobs_stored['Job Title'].apply(lambda x: 'Senior' if x.find('Senior') != -1 else\n",
    "('Junior' if x.find('Junior') != -1 else ('Entry Level' if x.find('Entry level') != -1 else\n",
    "                                          ('Graduate' if x.find('Graduate') != -1 else\n",
    "                                           ('Manager' if x.find('Manager') != -1 else\n",
    "                                            ('Internship' if x.find('Internship') != -1 else np.nan))))))\n",
    "jobs_stored.dropna(subset=['Ad Date'], how='all', inplace=True)\n",
    "jobs_stored[['Job Title', 'Seniority']]"
   ]
  },
  {
   "cell_type": "code",
   "execution_count": 22,
   "id": "0aee44c7",
   "metadata": {},
   "outputs": [
    {
     "name": "stdout",
     "output_type": "stream",
     "text": [
      "Minimum Salary 95% Confidence Interval = [80136.6 87138.6]\n"
     ]
    }
   ],
   "source": [
    "min_sal = np.array(jobs_stored['Min_Salary'].dropna())\n",
    "sal_replicates = np.empty(10000)\n",
    "for i in range(10000):\n",
    "    sal_samples = np.random.choice(min_sal, len(min_sal))\n",
    "    sal_replicates[i] = np.mean(sal_samples)\n",
    "con_interval = np.percentile(sal_replicates, [2.5, 97.5])\n",
    "con_interval[0] = ('{:.1f}'.format(con_interval[0]))\n",
    "con_interval[1] = ('{:.1f}'.format(con_interval[1]))\n",
    "print(\"Minimum Salary 95% Confidence Interval = \" + str(con_interval))"
   ]
  },
  {
   "cell_type": "code",
   "execution_count": 23,
   "id": "e5b189ce",
   "metadata": {
    "scrolled": false
   },
   "outputs": [
    {
     "data": {
      "text/plain": [
       "Ad Date\n",
       "2022-03-31   2022-03-31\n",
       "2022-03-30   2022-03-30\n",
       "2022-03-27   2022-03-27\n",
       "2022-03-27   2022-03-27\n",
       "2022-03-26   2022-03-26\n",
       "                ...    \n",
       "2021-08-20   2021-08-20\n",
       "2021-08-20   2021-08-20\n",
       "2021-08-19   2021-08-19\n",
       "2021-08-13   2021-08-13\n",
       "2021-08-13   2021-08-13\n",
       "Name: Ad Date, Length: 247, dtype: datetime64[ns]"
      ]
     },
     "execution_count": 23,
     "metadata": {},
     "output_type": "execute_result"
    }
   ],
   "source": [
    "jobs_stored['Ad Date'].sort_values(ascending=False)"
   ]
  },
  {
   "cell_type": "code",
   "execution_count": 24,
   "id": "80c6917a",
   "metadata": {},
   "outputs": [
    {
     "data": {
      "image/png": "[encoded data removed]",
      "text/plain": [
       "<Figure size 1152x792 with 4 Axes>"
      ]
     },
     "metadata": {},
     "output_type": "display_data"
    }
   ],
   "source": [
    "plt.style.use('seaborn-whitegrid')\n",
    "sns.set()\n",
    "fig, ax = plt.subplots(2, 2)\n",
    "fig.set_size_inches(16, 11)\n",
    "min_salary = jobs_stored['Min_Salary']\n",
    "before_Date = jobs_stored['Ad Date'] < pd.to_datetime('2021-10-15')\n",
    "ax[0, 0].plot(Cdf.from_seq(min_salary[before_Date].dropna()),\n",
    "              label='Before 2021 October 15')\n",
    "ax[0, 0].plot(Cdf.from_seq(min_salary[~before_Date].dropna()),\n",
    "              label='After 2021 October 15')\n",
    "x_min = np.sort(jobs_stored['Min_Salary'].dropna())\n",
    "y_min = np.arange(1, len(x_min) + 1) / len(x_min)\n",
    "x_max = np.sort(jobs_stored['Max_Salary'].dropna())\n",
    "y_max = np.arange(1, len(x_max) + 1) / len(x_max)\n",
    "pct_list = np.array([25, 50, 75])\n",
    "maxpct_val = np.percentile(jobs_stored['Max_Salary'].dropna(), pct_list)\n",
    "minpct_val = np.percentile(jobs_stored['Min_Salary'].dropna(), pct_list)\n",
    "ax[0, 0].set_ylabel('CDF')\n",
    "ax[0, 0].set_title(\n",
    "    'Distribution of minimum salary of \"Data Analyst\" jobs on Glassdoor')\n",
    "ax[0, 0].legend()\n",
    "ax[0, 0].set_xlabel('Estimated salary')\n",
    "\n",
    "ax[0, 1].plot(x_min, y_min, marker='.', linestyle='none',\n",
    "              color='r', label='Minimum salary')\n",
    "ax[0, 1].plot(x_max, y_max, marker='.', linestyle='none',\n",
    "              color='b', label='Maximum salary')\n",
    "ax[0, 1].plot(maxpct_val, pct_list / 100, marker='^', linestyle='none', color='c',\n",
    "              label='25th, 50th and 75th Percentile')\n",
    "ax[0, 1].plot(minpct_val, pct_list / 100, marker='^', linestyle='none', color='k',\n",
    "              label='25th, 50th and 75th Percentile')\n",
    "ax[0, 1].annotate('Mean:', xy=(jobs_stored['Min_Salary'].mean().astype('int64'), 0.5), xytext=(40000, 0.9),\n",
    "                  arrowprops=dict(arrowstyle=\"fancy\", facecolor='green', connectionstyle=\"angle3,angleA=0,angleB=-90\"), )\n",
    "ax[0, 1].set_ylabel('ECDF')\n",
    "ax[0, 1].set_title(\n",
    "    'Distribution of min and max salary of \"Data Analyst\" on Glassdoor')\n",
    "ax[0, 1].legend()\n",
    "ax[0, 1].set_xlabel('Estimated salary')\n",
    "\n",
    "ax[1, 0].bar(jobs_stored.index.unique(), ad_count, linestyle='None', color='r')\n",
    "ax[1, 0].figure.canvas.draw()\n",
    "ax[1, 0].tick_params(axis='x', which='major', rotation=20, direction='inout', length=6, width=2,\n",
    "                     color='k', labelcolor='royalblue')\n",
    "ax[1, 0].set_xlabel('Date of Advertisement', labelpad=0.0, color='magenta')\n",
    "ax[1, 0].set_ylabel('Number of Ads', color='purple')\n",
    "ax[1, 0].set_title(\n",
    "    '\\'Data Analyst Job\\' Advertisements in Glassdoor website', color='limegreen')\n",
    "\n",
    "ax[1, 1].pie(jobs_stored['Seniority'].value_counts(), labels=jobs_stored['Seniority'].dropna().unique(),\n",
    "             normalize=True, autopct='%1.1f%%', shadow=True, startangle=0)\n",
    "ax[1, 1].set_title('Job Ads seniority level count')\n",
    "# plt.tight_layout()\n",
    "fig.savefig(\"glassdoor\" + np.datetime64(date.today()).astype('str') + \".png\")"
   ]
  }
 ],
 "metadata": {
  "kernelspec": {
   "display_name": "Python 3 (ipykernel)",
   "language": "python",
   "name": "python3"
  },
  "language_info": {
   "codemirror_mode": {
    "name": "ipython",
    "version": 3
   },
   "file_extension": ".py",
   "mimetype": "text/x-python",
   "name": "python",
   "nbconvert_exporter": "python",
   "pygments_lexer": "ipython3",
   "version": "3.8.12"
  },
  "toc": {
   "base_numbering": 1,
   "nav_menu": {},
   "number_sections": true,
   "sideBar": true,
   "skip_h1_title": false,
   "title_cell": "Table of Contents",
   "title_sidebar": "Contents",
   "toc_cell": false,
   "toc_position": {},
   "toc_section_display": true,
   "toc_window_display": false
  }
 },
 "nbformat": 4,
 "nbformat_minor": 5
}
